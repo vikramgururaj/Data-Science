{
 "cells": [
  {
   "cell_type": "markdown",
   "metadata": {},
   "source": [
    "# Basics of Python"
   ]
  },
  {
   "cell_type": "markdown",
   "metadata": {},
   "source": [
    "# Variables in Python\n"
   ]
  },
  {
   "cell_type": "raw",
   "metadata": {},
   "source": [
    "Variables are containers that store data. \n",
    "Python has no command for declaring variable\n",
    "One can simply assign a value to a variable to create it\n",
    "Use = to assign a value to a variable"
   ]
  },
  {
   "cell_type": "code",
   "execution_count": 3,
   "metadata": {},
   "outputs": [],
   "source": [
    "Name = 'Vikram' # String Values are always enclosed within in quotes (single or double quotes)\n",
    "Age = 30 # Numbers do not need any quotes\n"
   ]
  },
  {
   "cell_type": "raw",
   "metadata": {},
   "source": [
    "Food For Thought\n",
    "\n",
    "What will happen when\n",
    "\n",
    "Age = '30'"
   ]
  },
  {
   "cell_type": "markdown",
   "metadata": {},
   "source": [
    "# Printing values in Python"
   ]
  },
  {
   "cell_type": "code",
   "execution_count": 5,
   "metadata": {},
   "outputs": [
    {
     "name": "stdout",
     "output_type": "stream",
     "text": [
      "Vikram\n",
      "30\n"
     ]
    },
    {
     "data": {
      "text/plain": [
       "30"
      ]
     },
     "execution_count": 5,
     "metadata": {},
     "output_type": "execute_result"
    }
   ],
   "source": [
    "print(Name)  # print command is used to print values\n",
    "print(Age)\n",
    "Age #  Also prints 30, however Age is a Jupyter print and print command prints the value"
   ]
  },
  {
   "cell_type": "markdown",
   "metadata": {},
   "source": [
    "# Print variables with texts"
   ]
  },
  {
   "cell_type": "code",
   "execution_count": 8,
   "metadata": {},
   "outputs": [
    {
     "name": "stdout",
     "output_type": "stream",
     "text": [
      "Vikram is 30 years old\n"
     ]
    }
   ],
   "source": [
    "print(Name, 'is' , Age, 'years old')"
   ]
  },
  {
   "cell_type": "code",
   "execution_count": 10,
   "metadata": {},
   "outputs": [
    {
     "name": "stdout",
     "output_type": "stream",
     "text": [
      "Raghu is older than Vikram his age is 40\n"
     ]
    }
   ],
   "source": [
    "print('Raghu is older than', Name, 'his age is', Age+10)"
   ]
  },
  {
   "cell_type": "markdown",
   "metadata": {},
   "source": [
    "# Reassign Variable"
   ]
  },
  {
   "cell_type": "code",
   "execution_count": 11,
   "metadata": {},
   "outputs": [
    {
     "data": {
      "text/plain": [
       "'Vikram'"
      ]
     },
     "execution_count": 11,
     "metadata": {},
     "output_type": "execute_result"
    }
   ],
   "source": [
    "my_friend_name = Name\n",
    "Name"
   ]
  },
  {
   "cell_type": "markdown",
   "metadata": {},
   "source": [
    "# Multiple variable assignments with same value"
   ]
  },
  {
   "cell_type": "code",
   "execution_count": 12,
   "metadata": {},
   "outputs": [],
   "source": [
    "Vikram_age = Anil_age = Sunil_age = 35"
   ]
  },
  {
   "cell_type": "code",
   "execution_count": 14,
   "metadata": {},
   "outputs": [
    {
     "ename": "SyntaxError",
     "evalue": "invalid syntax (<ipython-input-14-a4564df9a663>, line 3)",
     "output_type": "error",
     "traceback": [
      "\u001b[1;36m  File \u001b[1;32m\"<ipython-input-14-a4564df9a663>\"\u001b[1;36m, line \u001b[1;32m3\u001b[0m\n\u001b[1;33m    print('Sunil's age is\", Sunil_age)\u001b[0m\n\u001b[1;37m                 ^\u001b[0m\n\u001b[1;31mSyntaxError\u001b[0m\u001b[1;31m:\u001b[0m invalid syntax\n"
     ]
    }
   ],
   "source": [
    "print(\"Vikram's age is\",Vikram_age)   # When a quote is needed inside a quote use double quote\n",
    "print(\"Anil's age is\",Anil_age)      # For printing Anil's age use \" 's'\"\n",
    "# print('Sunil's age is\", Sunil_age): Will give a Syntax Error. Start with a single quote, end with single, start with double end with double!!\n",
    "print(\"Sunil's age is\", Sunil_age) # This will give a clear output"
   ]
  },
  {
   "cell_type": "markdown",
   "metadata": {},
   "source": [
    "# Multiple variables assignment with different values"
   ]
  },
  {
   "cell_type": "code",
   "execution_count": 16,
   "metadata": {},
   "outputs": [
    {
     "name": "stdout",
     "output_type": "stream",
     "text": [
      "Age 35 Expenditure 50000 Savings 100000\n"
     ]
    }
   ],
   "source": [
    "age, expenditure, savings = 35,50000,100000\n",
    "print('Age', age, 'Expenditure',expenditure,'Savings', savings)"
   ]
  },
  {
   "cell_type": "raw",
   "metadata": {},
   "source": [
    "Food for thought : Try to print the output as Age: 35 Expenditure: 50000 Savings: 100000"
   ]
  },
  {
   "cell_type": "code",
   "execution_count": 17,
   "metadata": {},
   "outputs": [],
   "source": [
    "# is used to comment a line of code. Commenting means the interpreter will ignore what ever is written after # \n",
    "# and will proceed to the next line of code"
   ]
  },
  {
   "cell_type": "raw",
   "metadata": {},
   "source": [
    "Types of comments\n",
    "# This is a comment\n",
    "x = y # This is an inline comment\n",
    "'''\n",
    "Text here    This is a comment block\n",
    "'''"
   ]
  },
  {
   "cell_type": "code",
   "execution_count": null,
   "metadata": {},
   "outputs": [],
   "source": []
  }
 ],
 "metadata": {
  "kernelspec": {
   "display_name": "Python 3",
   "language": "python",
   "name": "python3"
  },
  "language_info": {
   "codemirror_mode": {
    "name": "ipython",
    "version": 3
   },
   "file_extension": ".py",
   "mimetype": "text/x-python",
   "name": "python",
   "nbconvert_exporter": "python",
   "pygments_lexer": "ipython3",
   "version": "3.8.5"
  }
 },
 "nbformat": 4,
 "nbformat_minor": 4
}
